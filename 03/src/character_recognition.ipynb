{
 "cells": [
  {
   "cell_type": "markdown",
   "metadata": {},
   "source": [
    "# 文字認識\n",
    "\n",
    "## 手書き数字の光学認識データセットを使ってみる\n",
    "使用するのはsckit-learnに標準で付属しているOptical Recognition of HandWritten Digits Data Set  \n",
    "$8 \\times 8$ピクセルの手書き数字データが5620個ほど用意されている  \n",
    "url(https://archive.ics.uci.edu/dataset/80/optical+recognition+of+handwritten+digits)"
   ]
  },
  {
   "cell_type": "code",
   "execution_count": 1,
   "metadata": {},
   "outputs": [],
   "source": [
    "# sciki-learnに収録されている手書き数字データを読み込む\n",
    "from sklearn import datasets\n",
    "digits = datasets.load_digits()"
   ]
  },
  {
   "cell_type": "markdown",
   "metadata": {},
   "source": [
    "読み出したデータセットは辞書型  \n",
    "・digits.images - 画像データの配列  \n",
    "・digits.target - データがどの数字を表すかのラベルデータ"
   ]
  },
  {
   "cell_type": "code",
   "execution_count": 3,
   "metadata": {},
   "outputs": [
    {
     "data": {
      "image/png": "[encoded data removed]",
      "text/plain": [
       "<Figure size 640x480 with 15 Axes>"
      ]
     },
     "metadata": {},
     "output_type": "display_data"
    }
   ],
   "source": [
    "# データを確認する\n",
    "\n",
    "import matplotlib.pyplot as plt\n",
    "\n",
    "# sciki-learnに収録されている手書き数字データを読み込む\n",
    "from sklearn import datasets\n",
    "digits = datasets.load_digits()\n",
    "\n",
    "# 15個出力\n",
    "for i in range(15):\n",
    "    plt.subplot(3, 5, i+1)\n",
    "    plt.axis(\"off\")\n",
    "    plt.title(str(digits.target[i]))\n",
    "    plt.imshow(digits.images[i], cmap=\"gray\")\n",
    "\n",
    "plt.show()"
   ]
  },
  {
   "cell_type": "markdown",
   "metadata": {},
   "source": [
    "plt.subplot() - 複数のデータをプロットするのに利用"
   ]
  },
  {
   "cell_type": "code",
   "execution_count": 4,
   "metadata": {},
   "outputs": [
    {
     "data": {
      "image/png": "[encoded data removed]",
      "text/plain": [
       "<Figure size 640x480 with 1 Axes>"
      ]
     },
     "metadata": {},
     "output_type": "display_data"
    },
    {
     "name": "stdout",
     "output_type": "stream",
     "text": [
      "[[ 0.  0.  5. 13.  9.  1.  0.  0.]\n",
      " [ 0.  0. 13. 15. 10. 15.  5.  0.]\n",
      " [ 0.  3. 15.  2.  0. 11.  8.  0.]\n",
      " [ 0.  4. 12.  0.  0.  8.  8.  0.]\n",
      " [ 0.  5.  8.  0.  0.  9.  8.  0.]\n",
      " [ 0.  4. 11.  0.  1. 12.  7.  0.]\n",
      " [ 0.  2. 14.  5. 10. 12.  0.  0.]\n",
      " [ 0.  0.  6. 13. 10.  0.  0.  0.]]\n"
     ]
    }
   ],
   "source": [
    "# 画像のフォーマット\n",
    "d0 = digits.images[0]\n",
    "plt.imshow(d0, cmap=\"gray\")\n",
    "plt.show()\n",
    "print(d0)"
   ]
  },
  {
   "cell_type": "markdown",
   "metadata": {},
   "source": [
    "$8 \\times 8$ピクセルで0-16までの値で表現  \n",
    "0が透明 → 16が白(背景は黒)"
   ]
  },
  {
   "cell_type": "markdown",
   "metadata": {},
   "source": [
    "## 画像を機械学習する\n",
    "画像の画素データを学習データとして判別できるのかを確認する  \n",
    "8割を学習用, 残り2割をテスト用に振り分け"
   ]
  },
  {
   "cell_type": "code",
   "execution_count": 15,
   "metadata": {},
   "outputs": [
    {
     "name": "stdout",
     "output_type": "stream",
     "text": [
      "0.9388888888888889\n"
     ]
    },
    {
     "name": "stderr",
     "output_type": "stream",
     "text": [
      "/opt/homebrew/lib/python3.11/site-packages/sklearn/svm/_classes.py:32: FutureWarning: The default value of `dual` will change from `True` to `'auto'` in 1.5. Set the value of `dual` explicitly to suppress the warning.\n",
      "  warnings.warn(\n",
      "/opt/homebrew/lib/python3.11/site-packages/sklearn/svm/_base.py:1250: ConvergenceWarning: Liblinear failed to converge, increase the number of iterations.\n",
      "  warnings.warn(\n"
     ]
    }
   ],
   "source": [
    "# 機械学習による文字の判別\n",
    "from sklearn.model_selection import train_test_split\n",
    "from sklearn import datasets, svm, metrics\n",
    "from sklearn.metrics import accuracy_score\n",
    "\n",
    "\n",
    "# データの読み込み\n",
    "digits = datasets.load_digits()\n",
    "x = digits.images\n",
    "y = digits.target\n",
    "x = x.reshape((-1, 64)) # 二次元配列を1次元配列に変換\n",
    "\n",
    "# データの分割\n",
    "x_train, x_test, y_train, y_test = train_test_split(x, y, test_size=0.2)\n",
    "\n",
    "# 学習\n",
    "clf = svm.LinearSVC()\n",
    "clf.fit(x_train, y_train)\n",
    "\n",
    "# 予測と精度確認\n",
    "y_pred = clf.predict(x_test)\n",
    "print(accuracy_score(y_test, y_pred))"
   ]
  },
  {
   "cell_type": "markdown",
   "metadata": {},
   "source": [
    "大体0.93 - 0.96"
   ]
  },
  {
   "cell_type": "code",
   "execution_count": 10,
   "metadata": {},
   "outputs": [
    {
     "ename": "ImportError",
     "evalue": "cannot import name 'joblib' from 'sklearn.externals' (/opt/homebrew/lib/python3.11/site-packages/sklearn/externals/__init__.py)",
     "output_type": "error",
     "traceback": [
      "\u001b[0;31m---------------------------------------------------------------------------\u001b[0m",
      "\u001b[0;31mImportError\u001b[0m                               Traceback (most recent call last)",
      "Cell \u001b[0;32mIn[10], line 2\u001b[0m\n\u001b[1;32m      1\u001b[0m \u001b[38;5;66;03m# 学習済みデータをデータファイルとして保存する\u001b[39;00m\n\u001b[0;32m----> 2\u001b[0m \u001b[38;5;28;01mfrom\u001b[39;00m \u001b[38;5;21;01msklearn\u001b[39;00m\u001b[38;5;21;01m.\u001b[39;00m\u001b[38;5;21;01mexternals\u001b[39;00m \u001b[38;5;28;01mimport\u001b[39;00m joblib\n\u001b[1;32m      3\u001b[0m joblib\u001b[38;5;241m.\u001b[39mdump(clf, \u001b[38;5;124m'\u001b[39m\u001b[38;5;124m../learned_data/digits.pkl\u001b[39m\u001b[38;5;124m'\u001b[39m)\n",
      "\u001b[0;31mImportError\u001b[0m: cannot import name 'joblib' from 'sklearn.externals' (/opt/homebrew/lib/python3.11/site-packages/sklearn/externals/__init__.py)"
     ]
    }
   ],
   "source": [
    "# 学習済みデータをデータファイルとして保存する\n",
    "from sklearn.externals import joblib\n",
    "joblib.dump(clf, '../learned_data/digits.pkl')"
   ]
  },
  {
   "cell_type": "markdown",
   "metadata": {},
   "source": [
    "どうやらjoblibはexternalsにバインドされなくなっているらしい\n",
    "→ import joblib"
   ]
  },
  {
   "cell_type": "code",
   "execution_count": 16,
   "metadata": {},
   "outputs": [
    {
     "data": {
      "text/plain": [
       "['../learned_data/digits.pkl']"
      ]
     },
     "execution_count": 16,
     "metadata": {},
     "output_type": "execute_result"
    }
   ],
   "source": [
    "# 学習済みデータをデータファイルとして保存する\n",
    "import joblib\n",
    "joblib.dump(clf, '../learned_data/digits.pkl')"
   ]
  },
  {
   "cell_type": "markdown",
   "metadata": {},
   "source": [
    "Pickleファイル - Pythonにおいてデータを直列化（Serialize）したもので、非常に簡単にいうとデータの細かい情報までを保持した状態でファイルに落とし込んだもの"
   ]
  },
  {
   "cell_type": "markdown",
   "metadata": {},
   "source": [
    "## 自身の手描き画像を判定させてみる"
   ]
  },
  {
   "cell_type": "code",
   "execution_count": 18,
   "metadata": {},
   "outputs": [],
   "source": [
    "import cv2\n",
    "import joblib\n",
    "\n",
    "\n",
    "def predict_digit(file_name):\n",
    "    # 学習済みデータの読み込み\n",
    "    clf = joblib.load(\"../learned_data/digits.pkl\")\n",
    "\n",
    "    # 用意した手書き画像の読み込み\n",
    "    my_img = cv2.imread(file_name)\n",
    "    my_img = cv2.cvtColor(my_img, cv2.COLOR_RGB2GRAY)\n",
    "    my_img = 15 - my_img    # 白黒反転\n",
    "\n",
    "    # 二次元配列を一次元に変換\n",
    "    my_img = my_img.reshape((-1, 64))\n",
    "\n",
    "    # データの予測\n",
    "    res = clf.predict(my_img)\n",
    "    return res[0]"
   ]
  },
  {
   "cell_type": "code",
   "execution_count": 19,
   "metadata": {},
   "outputs": [
    {
     "name": "stdout",
     "output_type": "stream",
     "text": [
      "five.png = 4\n",
      "two.png = 4\n"
     ]
    }
   ],
   "source": [
    "n1 = predict_digit(\"../self_digits/five.png\")\n",
    "print(\"five.png = \" + str(str(n1)))\n",
    "\n",
    "n2 = predict_digit(\"../self_digits/two.png\")\n",
    "print(\"two.png = \" + str(str(n2)))"
   ]
  },
  {
   "cell_type": "markdown",
   "metadata": {},
   "source": [
    "どうやらうまく判別できていない  \n",
    "~原因~  \n",
    "・文字が左右によっている  \n",
    "・ペンの細さ  \n",
    "などで正しく判定できないことがある"
   ]
  },
  {
   "cell_type": "markdown",
   "metadata": {},
   "source": [
    "## 画像を対象とする機械学習のポイント\n",
    "・前処理が大事 → 画像のサイズを一定に合わせる, 画像の色空間を合わせる etc..  \n",
    "\n",
    "### 改良のヒント\n",
    "・良質なデータが多いほど高い精度が出せる → MNIST　etc.."
   ]
  },
  {
   "cell_type": "markdown",
   "metadata": {},
   "source": []
  }
 ],
 "metadata": {
  "kernelspec": {
   "display_name": "Python 3",
   "language": "python",
   "name": "python3"
  },
  "language_info": {
   "codemirror_mode": {
    "name": "ipython",
    "version": 3
   },
   "file_extension": ".py",
   "mimetype": "text/x-python",
   "name": "python",
   "nbconvert_exporter": "python",
   "pygments_lexer": "ipython3",
   "version": "3.11.7"
  }
 },
 "nbformat": 4,
 "nbformat_minor": 2
}
