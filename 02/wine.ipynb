{
 "cells": [
  {
   "cell_type": "markdown",
   "metadata": {},
   "source": [
    "# AIで美味しいワインを判定する\n",
    "\n",
    "今回は白ワインを選択\n",
    "→ winequality-white.csv\n",
    "※区切り文字が\";\"なのに注意\n",
    "\n",
    "### データ内容\n",
    "11種類のワインの成分データに続いて, 12番目がワイン専門家によるワインの品質データとなっている.\n",
    "\n",
    "ワイン専門家による品質評価は3回以上の評価を行い, その中央値を採用したもの.  \n",
    "0が最も悪く, 数値が上がるごとに評価が高くなり10が最良.\n",
    "\n",
    "#### データ構成\n",
    "\n",
    "1 fixed acidity : 酸性度  \n",
    "2 volatile acidity : 揮発性酸度  \n",
    "3 citric acid : クエン酸  \n",
    "4 residual sugar : 残留糖  \n",
    "5 chlorides : 塩化物  \n",
    "6 free sulfur dioxide : 遊離二酸化硫黄  \n",
    "7 total sulfur dioxide : 総二酸化硫黄  \n",
    "8 density : 密度  \n",
    "9 pH : pH  \n",
    "10 sulphates : 硫酸塩  \n",
    "11 alcohol : アルコール  \n",
    "12 quality : 品質(0:悪い - 10:良い)\n",
    "\n",
    "## 判定内容\n",
    "\n",
    "### アルゴリズム\n",
    "#### ランダムフォレスト\n",
    "決定木とアンサンブル学習を組み合わせたアルゴリズム.   \n",
    "機械学習の「分類」や「回帰」の用途で用いられることが多い.  \n",
    "特徴としては決定木を単体で使用するよりも高い精度を出せる.\n",
    "\n",
    "1. 元データからn個のブートストラップデータ集合を構成\n",
    "2. データ集合からn個の決定木を生成\n",
    "3. p個の特徴量からm個の特徴量をランダムに選択\n",
    "4. 分類の場合はn個の決定木の多数決を, 回帰の場合はn個の決定木の平均を最終的な予測とする\n",
    "\n",
    "##### 決定木\n",
    "「予測」や「判別」, 「分類」を目的にする際に用いられる手法.  \n",
    "Yes/Noの二者択一を階層構造的に繋げ, 答えていくことで最終的な正解に辿り着ける仕組み.\n",
    "\n",
    "##### アンサンブル学習\n",
    "より良い予測結果を得るために複数の学習アルゴリズムを組み合わせる技術.  \n",
    "複数の単一モデルを用いて強力なモデルを構築する.\n",
    "「分類」の場合は複数の学習器の多数決で, 「回帰」の場合は複数の学習器の平均を取るのが一般的.\n",
    "\n",
    "###### バギング(Bagging)\n",
    "ブートストラップ(Bootstarap Aggregating)を用いて複数のモデルを並列的に学習させる方法.  \n",
    "(ブートストラップ - 元データから一部のデータを復元抽出してサンプリング)  \n",
    "ランダムフォレストはバギングを使用.\n",
    "\n",
    "###### ブースティング\n",
    "複数のモデルを使い, 学習を直列的に進めていく手法.\n",
    "\n"
   ]
  },
  {
   "cell_type": "code",
   "execution_count": 3,
   "metadata": {},
   "outputs": [
    {
     "name": "stdout",
     "output_type": "stream",
     "text": [
      "      fixed acidity  volatile acidity  citric acid  residual sugar  chlorides  \\\n",
      "0               7.0              0.27         0.36            20.7      0.045   \n",
      "1               6.3              0.30         0.34             1.6      0.049   \n",
      "2               8.1              0.28         0.40             6.9      0.050   \n",
      "3               7.2              0.23         0.32             8.5      0.058   \n",
      "4               7.2              0.23         0.32             8.5      0.058   \n",
      "...             ...               ...          ...             ...        ...   \n",
      "4893            6.2              0.21         0.29             1.6      0.039   \n",
      "4894            6.6              0.32         0.36             8.0      0.047   \n",
      "4895            6.5              0.24         0.19             1.2      0.041   \n",
      "4896            5.5              0.29         0.30             1.1      0.022   \n",
      "4897            6.0              0.21         0.38             0.8      0.020   \n",
      "\n",
      "      free sulfur dioxide  total sulfur dioxide  density    pH  sulphates  \\\n",
      "0                    45.0                 170.0  1.00100  3.00       0.45   \n",
      "1                    14.0                 132.0  0.99400  3.30       0.49   \n",
      "2                    30.0                  97.0  0.99510  3.26       0.44   \n",
      "3                    47.0                 186.0  0.99560  3.19       0.40   \n",
      "4                    47.0                 186.0  0.99560  3.19       0.40   \n",
      "...                   ...                   ...      ...   ...        ...   \n",
      "4893                 24.0                  92.0  0.99114  3.27       0.50   \n",
      "4894                 57.0                 168.0  0.99490  3.15       0.46   \n",
      "4895                 30.0                 111.0  0.99254  2.99       0.46   \n",
      "4896                 20.0                 110.0  0.98869  3.34       0.38   \n",
      "4897                 22.0                  98.0  0.98941  3.26       0.32   \n",
      "\n",
      "      alcohol  quality  \n",
      "0         8.8        6  \n",
      "1         9.5        6  \n",
      "2        10.1        6  \n",
      "3         9.9        6  \n",
      "4         9.9        6  \n",
      "...       ...      ...  \n",
      "4893     11.2        6  \n",
      "4894      9.6        5  \n",
      "4895      9.4        6  \n",
      "4896     12.8        7  \n",
      "4897     11.8        6  \n",
      "\n",
      "[4898 rows x 12 columns]\n"
     ]
    }
   ],
   "source": [
    "# データの確認\n",
    "import pandas as pd\n",
    "\n",
    "# データの読み込み\n",
    "df = pd.read_csv(\"csv/winequality-white.csv\", sep = \";\", encoding=\"utf-8\")\n",
    "print(df)"
   ]
  },
  {
   "cell_type": "code",
   "execution_count": 6,
   "metadata": {},
   "outputs": [
    {
     "name": "stdout",
     "output_type": "stream",
     "text": [
      "              precision    recall  f1-score   support\n",
      "\n",
      "           3       0.00      0.00      0.00         6\n",
      "           4       0.86      0.20      0.32        30\n",
      "           5       0.73      0.66      0.69       289\n",
      "           6       0.65      0.80      0.72       447\n",
      "           7       0.67      0.59      0.63       163\n",
      "           8       1.00      0.43      0.60        44\n",
      "           9       0.00      0.00      0.00         1\n",
      "\n",
      "    accuracy                           0.68       980\n",
      "   macro avg       0.56      0.38      0.42       980\n",
      "weighted avg       0.69      0.68      0.67       980\n",
      "\n",
      "正解率= 0.6816326530612244\n"
     ]
    },
    {
     "name": "stderr",
     "output_type": "stream",
     "text": [
      "/opt/homebrew/lib/python3.11/site-packages/sklearn/metrics/_classification.py:1471: UndefinedMetricWarning: Precision and F-score are ill-defined and being set to 0.0 in labels with no predicted samples. Use `zero_division` parameter to control this behavior.\n",
      "  _warn_prf(average, modifier, msg_start, len(result))\n",
      "/opt/homebrew/lib/python3.11/site-packages/sklearn/metrics/_classification.py:1471: UndefinedMetricWarning: Precision and F-score are ill-defined and being set to 0.0 in labels with no predicted samples. Use `zero_division` parameter to control this behavior.\n",
      "  _warn_prf(average, modifier, msg_start, len(result))\n",
      "/opt/homebrew/lib/python3.11/site-packages/sklearn/metrics/_classification.py:1471: UndefinedMetricWarning: Precision and F-score are ill-defined and being set to 0.0 in labels with no predicted samples. Use `zero_division` parameter to control this behavior.\n",
      "  _warn_prf(average, modifier, msg_start, len(result))\n"
     ]
    }
   ],
   "source": [
    "# 品質判定プログラム\n",
    "\n",
    "import pandas as pd \n",
    "from sklearn.model_selection import train_test_split\n",
    "from sklearn.ensemble import RandomForestClassifier\n",
    "from sklearn.metrics import accuracy_score\n",
    "from sklearn.metrics import classification_report\n",
    "\n",
    "# データの読み込み\n",
    "wine = pd.read_csv(\"csv/winequality-white.csv\", sep=\";\", encoding=\"utf-8\")\n",
    "\n",
    "# データをラベルとデータに分離\n",
    "y = wine[\"quality\"]\n",
    "x = wine.drop(\"quality\", axis=1)\n",
    "\n",
    "# 学習用とテスト用に分割\n",
    "x_train, x_test, y_train, y_test = train_test_split(x, y, test_size=0.2)\n",
    "\n",
    "# 学習\n",
    "model = RandomForestClassifier()\n",
    "model.fit(x_train, y_train)\n",
    "\n",
    "# 評価\n",
    "y_pred = model.predict(x_test)\n",
    "print(classification_report(y_test, y_pred))\n",
    "print(\"正解率=\", accuracy_score(y_test, y_pred))"
   ]
  },
  {
   "cell_type": "markdown",
   "metadata": {},
   "source": [
    "### 関数\n",
    "\n",
    "#### pd.drop(index=\"行名or列名\", axis=0, inplace=False)  \n",
    "指定した行を削除. axis=0 → 行を削除, axis=1 → 列を削除.  \n",
    "複数行の場合はリストを使用\n",
    "\n",
    "#### sklearn.metrics.classification_report(y_true, y_pred, label=None, target_names=None, sample_weight=None, digit=2, output_dict=False, zero_division='warn')\n",
    "主要な分類賞を示すテキストレポートを作成."
   ]
  },
  {
   "cell_type": "markdown",
   "metadata": {},
   "source": [
    "### 内容について\n",
    "68%程度の正解率ではあまり精度が高いとは言えない  \n",
    "→ 精度向上を目指す\n",
    "\n",
    "classification_report()において, \"UndefinedMetricWarning\"が出力されている  \n",
    "→ 全てのラベルにデータが分類されていない\n",
    "→ データを確認すると11段階のワインがそれぞれ同数あるわけではないことがわかる\n",
    "\n",
    "実行するたび値が異なる原因 - 学習用データとテスト用データをランダムに分割しているため\n",
    "\n",
    "precision - 精度  \n",
    "recall - 再現率  \n",
    "f1-score - 精度と再現率の調和平均\n",
    "support -正解ラベルのデータ数\n",
    "\n",
    "※調和平均 -　逆数の平均の逆数. 生産性の平均で使用される. どの平均を使うかは何を固定して考えているかが重要"
   ]
  },
  {
   "cell_type": "code",
   "execution_count": 7,
   "metadata": {},
   "outputs": [
    {
     "name": "stdout",
     "output_type": "stream",
     "text": [
      "quality\n",
      "3      20\n",
      "4     163\n",
      "5    1457\n",
      "6    2198\n",
      "7     880\n",
      "8     175\n",
      "9       5\n",
      "Name: quality, dtype: int64\n"
     ]
    },
    {
     "data": {
      "image/png": "[encoded data removed]",
      "text/plain": [
       "<Figure size 640x480 with 1 Axes>"
      ]
     },
     "metadata": {},
     "output_type": "display_data"
    }
   ],
   "source": [
    "# 各品質のデータがいくつずつあるか調べる\n",
    "import matplotlib.pyplot as plt \n",
    "import pandas as pd \n",
    "\n",
    "# データの読み込み\n",
    "wine = pd.read_csv(\"csv/winequality-white.csv\", sep=\";\", encoding=\"utf-8\")\n",
    "\n",
    "# 品質ごとにグループ分け\n",
    "count_data = wine.groupby('quality')[\"quality\"].count()\n",
    "print(count_data)\n",
    "\n",
    "# 数えたデータをグラフ化\n",
    "count_data.plot()\n",
    "plt.savefig(\"images/wine-count-plt.png\")\n",
    "plt.show()"
   ]
  },
  {
   "cell_type": "markdown",
   "metadata": {},
   "source": [
    "### 関数\n",
    "#### pandas.DataFrame.groupby(by=None, asis=_NoDefault.no_default, level=None, as_index=True, sort=True, group_keys=True, observed = _Nodefault.no_default, dropna=True)\n",
    "オブジェクトの分割, 関数の適応, 結果の結合など, 大量データのグループ化を行う.  \n",
    "今回は'quality'ごとにグループを分け, groupbyオブジェクトのそれぞれのデータ数を数えている\n",
    "\n",
    "### データ内容\n",
    "ワンデータの品質は5~7が大半を占める.  \n",
    "0, 1, 2, 10の品質のものは存在しない.\n",
    "\n",
    "→ このようなデータの分布数に差のあるデータ : 不均衡データ\n",
    "\n",
    "→ 11段階のデータを\n",
    "1. 4以前\n",
    "2. 5 - 7\n",
    "3. 8以上  \n",
    "\n",
    "にラベル分けする"
   ]
  },
  {
   "cell_type": "code",
   "execution_count": 9,
   "metadata": {},
   "outputs": [],
   "source": [
    "# ラベル分け\n",
    "newlist = []\n",
    "\n",
    "for v in list(y):\n",
    "    if v <= 4:\n",
    "        newlist += [0]\n",
    "    elif v<= 7:\n",
    "        newlist += [1]\n",
    "    else:\n",
    "        newlist += [2]\n",
    "\n",
    "y = newlist"
   ]
  },
  {
   "cell_type": "code",
   "execution_count": 10,
   "metadata": {},
   "outputs": [
    {
     "name": "stdout",
     "output_type": "stream",
     "text": [
      "              precision    recall  f1-score   support\n",
      "\n",
      "           0       0.71      0.32      0.44        31\n",
      "           1       0.95      0.99      0.97       913\n",
      "           2       0.92      0.33      0.49        36\n",
      "\n",
      "    accuracy                           0.95       980\n",
      "   macro avg       0.86      0.55      0.64       980\n",
      "weighted avg       0.94      0.95      0.94       980\n",
      "\n",
      "正解率= 0.9489795918367347\n"
     ]
    }
   ],
   "source": [
    "# 最終的なプログラム\n",
    "\n",
    "import pandas as pd\n",
    "from sklearn.model_selection import train_test_split\n",
    "from sklearn.ensemble import RandomForestClassifier\n",
    "from sklearn.metrics import accuracy_score\n",
    "from sklearn.metrics import classification_report\n",
    "\n",
    "# データの読み込み\n",
    "wine = pd.read_csv(\"csv/winequality-white.csv\", sep=\";\", encoding=\"utf-8\")\n",
    "\n",
    "# データをラベルとデータに分離\n",
    "y = wine[\"quality\"]\n",
    "x = wine.drop(\"quality\", axis=1)\n",
    "\n",
    "# yのラベルを再定義\n",
    "newlist = []\n",
    "for v in list(y):\n",
    "    if v <= 4:\n",
    "        newlist += [0]\n",
    "    elif v <= 7:\n",
    "        newlist += [1]\n",
    "    else:\n",
    "        newlist += [2]\n",
    "\n",
    "y = newlist\n",
    "# 学習用とテスト用に分割\n",
    "x_train, x_test, y_train, y_test = train_test_split(x, y, test_size=0.2)\n",
    "\n",
    "# 学習\n",
    "model = RandomForestClassifier()\n",
    "model.fit(x_train, y_train)\n",
    "\n",
    "# 評価\n",
    "y_pred = model.predict(x_test)\n",
    "print(classification_report(y_test, y_pred))\n",
    "print(\"正解率=\", accuracy_score(y_test, y_pred))"
   ]
  },
  {
   "cell_type": "markdown",
   "metadata": {},
   "source": [
    "正解率の向上に成功  \n",
    "どんなデータをどのように分類しようとしているのかを調べ, データを変形・整形してみることが精度向上を助ける"
   ]
  },
  {
   "cell_type": "code",
   "execution_count": null,
   "metadata": {},
   "outputs": [],
   "source": []
  }
 ],
 "metadata": {
  "kernelspec": {
   "display_name": "Python 3",
   "language": "python",
   "name": "python3"
  },
  "language_info": {
   "codemirror_mode": {
    "name": "ipython",
    "version": 3
   },
   "file_extension": ".py",
   "mimetype": "text/x-python",
   "name": "python",
   "nbconvert_exporter": "python",
   "pygments_lexer": "ipython3",
   "version": "3.11.7"
  }
 },
 "nbformat": 4,
 "nbformat_minor": 2
}
